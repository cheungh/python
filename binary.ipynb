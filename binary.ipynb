{
 "cells": [
  {
   "cell_type": "code",
   "execution_count": 4,
   "metadata": {
    "collapsed": false
   },
   "outputs": [
    {
     "data": {
      "text/plain": [
       "1"
      ]
     },
     "execution_count": 4,
     "metadata": {},
     "output_type": "execute_result"
    }
   ],
   "source": [
    "\n",
    "# test if X odd number\n",
    "# return 1 since the last bit is 1\n",
    "# 1011\n",
    "11 & 1"
   ]
  },
  {
   "cell_type": "code",
   "execution_count": 3,
   "metadata": {
    "collapsed": false
   },
   "outputs": [
    {
     "data": {
      "text/plain": [
       "0"
      ]
     },
     "execution_count": 3,
     "metadata": {},
     "output_type": "execute_result"
    }
   ],
   "source": [
    "# test for even number, return 0\n",
    "10 & 1"
   ]
  },
  {
   "cell_type": "code",
   "execution_count": 45,
   "metadata": {
    "collapsed": false
   },
   "outputs": [
    {
     "name": "stdout",
     "output_type": "stream",
     "text": [
      "10001\n"
     ]
    }
   ],
   "source": [
    "def covertInt2NumberBase(x, number_base = 2):\n",
    "    # 9\n",
    "    if x == 0:\n",
    "        return ''\n",
    "    # calculate left bit\n",
    "    return str(covertInt2NumberBase((x / number_base), number_base)) + str((x % number_base))\n",
    "\n",
    "print covertInt2NumberBase(17)"
   ]
  },
  {
   "cell_type": "code",
   "execution_count": 53,
   "metadata": {
    "collapsed": false
   },
   "outputs": [
    {
     "name": "stdout",
     "output_type": "stream",
     "text": [
      "10001\n",
      "10011\n",
      "10111\n",
      "11111\n",
      "unset first bit\n",
      "11110\n",
      "unset second bit\n",
      "11100\n"
     ]
    }
   ],
   "source": [
    "X = 17\n",
    "print covertInt2NumberBase(X)\n",
    "# set the first bit\n",
    "X = X | 1 << 1\n",
    "print covertInt2NumberBase(X)\n",
    "# set the second bit\n",
    "X = X | 1 << 2\n",
    "print covertInt2NumberBase(X)\n",
    "# set the thrid bit\n",
    "X |= 1 << 3\n",
    "print covertInt2NumberBase(X)\n",
    "print \"unset first bit\"\n",
    "X &= ~(1<<0)\n",
    "print covertInt2NumberBase(X)\n",
    "print \"unset second bit\"\n",
    "X &= ~(1<<1)\n",
    "print covertInt2NumberBase(X)\n"
   ]
  },
  {
   "cell_type": "code",
   "execution_count": null,
   "metadata": {
    "collapsed": true
   },
   "outputs": [],
   "source": []
  }
 ],
 "metadata": {
  "kernelspec": {
   "display_name": "Python 2",
   "language": "python",
   "name": "python2"
  },
  "language_info": {
   "codemirror_mode": {
    "name": "ipython",
    "version": 2
   },
   "file_extension": ".py",
   "mimetype": "text/x-python",
   "name": "python",
   "nbconvert_exporter": "python",
   "pygments_lexer": "ipython2",
   "version": "2.7.11"
  }
 },
 "nbformat": 4,
 "nbformat_minor": 0
}
